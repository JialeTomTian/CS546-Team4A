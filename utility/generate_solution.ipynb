{
 "cells": [
  {
   "cell_type": "code",
   "execution_count": 1,
   "id": "initial_id",
   "metadata": {
    "collapsed": true,
    "ExecuteTime": {
     "end_time": "2024-11-14T03:27:02.787451400Z",
     "start_time": "2024-11-14T03:27:01.107634900Z"
    }
   },
   "outputs": [],
   "source": [
    "import pandas as pd\n",
    "## get df from hugging face, same as HumanEvalPlusOrig.jsonl\n",
    "df = pd.read_parquet(\"hf://datasets/evalplus/humanevalplus/data/test-00000-of-00001-5973903632b82d40.parquet\")"
   ]
  },
  {
   "cell_type": "code",
   "execution_count": 2,
   "outputs": [
    {
     "data": {
      "text/plain": "           task_id                                             prompt  \\\n0      HumanEval/0  from typing import List\\n\\n\\ndef has_close_ele...   \n1      HumanEval/1  from typing import List\\n\\n\\ndef separate_pare...   \n2      HumanEval/2  \\n\\ndef truncate_number(number: float) -> floa...   \n3      HumanEval/3  from typing import List\\n\\n\\ndef below_zero(op...   \n4      HumanEval/4  from typing import List\\n\\n\\ndef mean_absolute...   \n..             ...                                                ...   \n159  HumanEval/159  \\ndef eat(number, need, remaining):\\n    \"\"\"\\n...   \n160  HumanEval/160  \\ndef do_algebra(operator, operand):\\n    \"\"\"\\...   \n161  HumanEval/161  \\ndef solve(s):\\n    \"\"\"You are given a string...   \n162  HumanEval/162  \\ndef string_to_md5(text):\\n    \"\"\"\\n    Given...   \n163  HumanEval/163  \\ndef generate_integers(a, b):\\n    \"\"\"\\n    G...   \n\n                                    canonical_solution  \\\n0    \\n\\n    sorted_numbers = sorted(numbers)\\n    ...   \n1    \\n\\n    cnt, group, results = 0, \"\", []\\n    f...   \n2              \\n\\n    return number - int(number)\\n\\n   \n3    \\n    account = 0\\n    for operation in operat...   \n4    \\n    mean = sum(numbers) / len(numbers)\\n    ...   \n..                                                 ...   \n159  \\n\\n    if need <= remaining:\\n        return ...   \n160  \\n\\n    exp = \"\"\\n    for i in range(len(opera...   \n161  \\n    ans, has_letter = \"\", False\\n    for ch ...   \n162  \\n    if text == \"\": return None\\n    import h...   \n163  \\n\\n    if a > b: a, b = b, a\\n    return [i f...   \n\n                 entry_point  \\\n0         has_close_elements   \n1      separate_paren_groups   \n2            truncate_number   \n3                 below_zero   \n4    mean_absolute_deviation   \n..                       ...   \n159                      eat   \n160               do_algebra   \n161                    solve   \n162            string_to_md5   \n163        generate_integers   \n\n                                                  test  \n0    \\n\\nimport numpy as np\\n\\ndef is_floats(x) -> ...  \n1    \\n\\nimport numpy as np\\n\\ndef is_floats(x) -> ...  \n2    \\n\\nimport numpy as np\\n\\ndef is_floats(x) -> ...  \n3    \\n\\nimport numpy as np\\n\\ndef is_floats(x) -> ...  \n4    \\n\\nimport numpy as np\\n\\ndef is_floats(x) -> ...  \n..                                                 ...  \n159  \\n\\nimport numpy as np\\n\\ndef is_floats(x) -> ...  \n160  \\n\\nimport numpy as np\\n\\ndef is_floats(x) -> ...  \n161  \\n\\nimport numpy as np\\n\\ndef is_floats(x) -> ...  \n162  \\n\\nimport numpy as np\\n\\ndef is_floats(x) -> ...  \n163  \\n\\nimport numpy as np\\n\\ndef is_floats(x) -> ...  \n\n[164 rows x 5 columns]",
      "text/html": "<div>\n<style scoped>\n    .dataframe tbody tr th:only-of-type {\n        vertical-align: middle;\n    }\n\n    .dataframe tbody tr th {\n        vertical-align: top;\n    }\n\n    .dataframe thead th {\n        text-align: right;\n    }\n</style>\n<table border=\"1\" class=\"dataframe\">\n  <thead>\n    <tr style=\"text-align: right;\">\n      <th></th>\n      <th>task_id</th>\n      <th>prompt</th>\n      <th>canonical_solution</th>\n      <th>entry_point</th>\n      <th>test</th>\n    </tr>\n  </thead>\n  <tbody>\n    <tr>\n      <th>0</th>\n      <td>HumanEval/0</td>\n      <td>from typing import List\\n\\n\\ndef has_close_ele...</td>\n      <td>\\n\\n    sorted_numbers = sorted(numbers)\\n    ...</td>\n      <td>has_close_elements</td>\n      <td>\\n\\nimport numpy as np\\n\\ndef is_floats(x) -&gt; ...</td>\n    </tr>\n    <tr>\n      <th>1</th>\n      <td>HumanEval/1</td>\n      <td>from typing import List\\n\\n\\ndef separate_pare...</td>\n      <td>\\n\\n    cnt, group, results = 0, \"\", []\\n    f...</td>\n      <td>separate_paren_groups</td>\n      <td>\\n\\nimport numpy as np\\n\\ndef is_floats(x) -&gt; ...</td>\n    </tr>\n    <tr>\n      <th>2</th>\n      <td>HumanEval/2</td>\n      <td>\\n\\ndef truncate_number(number: float) -&gt; floa...</td>\n      <td>\\n\\n    return number - int(number)\\n\\n</td>\n      <td>truncate_number</td>\n      <td>\\n\\nimport numpy as np\\n\\ndef is_floats(x) -&gt; ...</td>\n    </tr>\n    <tr>\n      <th>3</th>\n      <td>HumanEval/3</td>\n      <td>from typing import List\\n\\n\\ndef below_zero(op...</td>\n      <td>\\n    account = 0\\n    for operation in operat...</td>\n      <td>below_zero</td>\n      <td>\\n\\nimport numpy as np\\n\\ndef is_floats(x) -&gt; ...</td>\n    </tr>\n    <tr>\n      <th>4</th>\n      <td>HumanEval/4</td>\n      <td>from typing import List\\n\\n\\ndef mean_absolute...</td>\n      <td>\\n    mean = sum(numbers) / len(numbers)\\n    ...</td>\n      <td>mean_absolute_deviation</td>\n      <td>\\n\\nimport numpy as np\\n\\ndef is_floats(x) -&gt; ...</td>\n    </tr>\n    <tr>\n      <th>...</th>\n      <td>...</td>\n      <td>...</td>\n      <td>...</td>\n      <td>...</td>\n      <td>...</td>\n    </tr>\n    <tr>\n      <th>159</th>\n      <td>HumanEval/159</td>\n      <td>\\ndef eat(number, need, remaining):\\n    \"\"\"\\n...</td>\n      <td>\\n\\n    if need &lt;= remaining:\\n        return ...</td>\n      <td>eat</td>\n      <td>\\n\\nimport numpy as np\\n\\ndef is_floats(x) -&gt; ...</td>\n    </tr>\n    <tr>\n      <th>160</th>\n      <td>HumanEval/160</td>\n      <td>\\ndef do_algebra(operator, operand):\\n    \"\"\"\\...</td>\n      <td>\\n\\n    exp = \"\"\\n    for i in range(len(opera...</td>\n      <td>do_algebra</td>\n      <td>\\n\\nimport numpy as np\\n\\ndef is_floats(x) -&gt; ...</td>\n    </tr>\n    <tr>\n      <th>161</th>\n      <td>HumanEval/161</td>\n      <td>\\ndef solve(s):\\n    \"\"\"You are given a string...</td>\n      <td>\\n    ans, has_letter = \"\", False\\n    for ch ...</td>\n      <td>solve</td>\n      <td>\\n\\nimport numpy as np\\n\\ndef is_floats(x) -&gt; ...</td>\n    </tr>\n    <tr>\n      <th>162</th>\n      <td>HumanEval/162</td>\n      <td>\\ndef string_to_md5(text):\\n    \"\"\"\\n    Given...</td>\n      <td>\\n    if text == \"\": return None\\n    import h...</td>\n      <td>string_to_md5</td>\n      <td>\\n\\nimport numpy as np\\n\\ndef is_floats(x) -&gt; ...</td>\n    </tr>\n    <tr>\n      <th>163</th>\n      <td>HumanEval/163</td>\n      <td>\\ndef generate_integers(a, b):\\n    \"\"\"\\n    G...</td>\n      <td>\\n\\n    if a &gt; b: a, b = b, a\\n    return [i f...</td>\n      <td>generate_integers</td>\n      <td>\\n\\nimport numpy as np\\n\\ndef is_floats(x) -&gt; ...</td>\n    </tr>\n  </tbody>\n</table>\n<p>164 rows × 5 columns</p>\n</div>"
     },
     "execution_count": 2,
     "metadata": {},
     "output_type": "execute_result"
    }
   ],
   "source": [
    "df"
   ],
   "metadata": {
    "collapsed": false,
    "ExecuteTime": {
     "end_time": "2024-11-14T03:27:02.802962200Z",
     "start_time": "2024-11-14T03:27:02.787451400Z"
    }
   },
   "id": "71b168ceedf17456"
  },
  {
   "cell_type": "markdown",
   "source": [
    "## Instructions\n",
    "\n",
    "1. Run the notebook to save `HumanEvalPlusOrig` into executable test code.\n",
    "2. Run the generate_report.py to generate report for cpu time and memory usage\n",
    "\n"
   ],
   "metadata": {
    "collapsed": false
   },
   "id": "b6fba8d551f59eb5"
  },
  {
   "cell_type": "code",
   "execution_count": 3,
   "outputs": [],
   "source": [
    "\n",
    "\n",
    "def create_executable_script(row, output_filename):\n",
    "    encodings = [\n",
    "        'utf-8',\n",
    "        'utf-8-sig',\n",
    "        'gbk',\n",
    "        'gb2312',\n",
    "        'ascii'\n",
    "    ]\n",
    "    for encoding in encodings:\n",
    "        try:\n",
    "            with open(output_filename, 'w',encoding=encoding) as f:\n",
    "                f.write('# -*- coding: utf-8 -*-'+'\\n')\n",
    "                f.write('''import psutil\n",
    "import os\n",
    "import time\n",
    "from functools import wraps\n",
    "def measure_performance(func):\n",
    "    @wraps(func)\n",
    "    def wrapper(*args, **kwargs):\n",
    "        process = psutil.Process(os.getpid())\n",
    "\n",
    "        start_time = time.perf_counter()\n",
    "        start_mem = process.memory_info().rss / 1024  # KB\n",
    "\n",
    "        result = func(*args, **kwargs)\n",
    "        end_time = time.perf_counter()\n",
    "        end_mem = process.memory_info().rss / 1024\n",
    "\n",
    "        time_used = end_time - start_time\n",
    "        mem_used = end_mem - start_mem\n",
    "\n",
    "        return time_used*1_000_000,mem_used\n",
    "\n",
    "    return wrapper'''+'\\n')\n",
    "                f.write(row['prompt'] + '\\n')\n",
    "                \n",
    "                solution = row['canonical_solution'].strip().split('\\n')\n",
    "                flag = 0\n",
    "                for line in solution:\n",
    "                    if flag ==0:\n",
    "                        f.write('    ' + line + '\\n')\n",
    "                        flag=1\n",
    "                    else:\n",
    "                        f.write(line + '\\n')\n",
    "                \n",
    "                f.write('\\n')  \n",
    "                \n",
    "                f.write(row['test'] + '\\n')\n",
    "                f.write('@measure_performance\\n')\n",
    "                f.write('def run():\\n')\n",
    "                f.write(f'    check({row[\"entry_point\"]})\\n')\n",
    "                \n",
    "                f.write('if __name__ == \"__main__\":\\n')\n",
    "                f.write(f'    time_used,mem_used = run()\\n')\n",
    "                f.write(f'    print(time_used,mem_used)\\n')\n",
    "            return True\n",
    "        except Exception as e:\n",
    "            print(f\"Error with {encoding} encoding: {str(e)}\")\n",
    "            continue"
   ],
   "metadata": {
    "collapsed": false,
    "ExecuteTime": {
     "end_time": "2024-11-14T03:27:02.834471600Z",
     "start_time": "2024-11-14T03:27:02.804961600Z"
    }
   },
   "id": "928690bd7b4fc3db"
  },
  {
   "cell_type": "code",
   "execution_count": 4,
   "outputs": [],
   "source": [
    "\n",
    "for i in range(len(df)):\n",
    "    row = df.iloc[i]\n",
    "    task_id = row['task_id']\n",
    "    entry_point = row['entry_point']\n",
    "    file_path = 'canonical_solution/'+entry_point+'.py'\n",
    "    create_executable_script(row, file_path)\n"
   ],
   "metadata": {
    "collapsed": false,
    "ExecuteTime": {
     "end_time": "2024-11-14T03:27:02.886471700Z",
     "start_time": "2024-11-14T03:27:02.820965300Z"
    }
   },
   "id": "587233f8a05cbc5b"
  },
  {
   "cell_type": "code",
   "execution_count": 4,
   "outputs": [],
   "source": [],
   "metadata": {
    "collapsed": false,
    "ExecuteTime": {
     "end_time": "2024-11-14T03:27:02.896472400Z",
     "start_time": "2024-11-14T03:27:02.882472Z"
    }
   },
   "id": "1b9cbabf37f73da"
  },
  {
   "cell_type": "code",
   "execution_count": 4,
   "outputs": [],
   "source": [],
   "metadata": {
    "collapsed": false,
    "ExecuteTime": {
     "end_time": "2024-11-14T03:27:02.914472400Z",
     "start_time": "2024-11-14T03:27:02.897471800Z"
    }
   },
   "id": "2f1209410df5c85a"
  }
 ],
 "metadata": {
  "kernelspec": {
   "display_name": "Python 3",
   "language": "python",
   "name": "python3"
  },
  "language_info": {
   "codemirror_mode": {
    "name": "ipython",
    "version": 2
   },
   "file_extension": ".py",
   "mimetype": "text/x-python",
   "name": "python",
   "nbconvert_exporter": "python",
   "pygments_lexer": "ipython2",
   "version": "2.7.6"
  }
 },
 "nbformat": 4,
 "nbformat_minor": 5
}
